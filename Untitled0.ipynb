{
  "nbformat": 4,
  "nbformat_minor": 0,
  "metadata": {
    "colab": {
      "provenance": [],
      "authorship_tag": "ABX9TyO+xw3oFy+TJxlpJfTfIyJ2",
      "include_colab_link": true
    },
    "kernelspec": {
      "name": "python3",
      "display_name": "Python 3"
    },
    "language_info": {
      "name": "python"
    }
  },
  "cells": [
    {
      "cell_type": "markdown",
      "metadata": {
        "id": "view-in-github",
        "colab_type": "text"
      },
      "source": [
        "<a href=\"https://colab.research.google.com/github/411135038/pythonAA-homework/blob/main/Untitled0.ipynb\" target=\"_parent\"><img src=\"https://colab.research.google.com/assets/colab-badge.svg\" alt=\"Open In Colab\"/></a>"
      ]
    },
    {
      "cell_type": "code",
      "execution_count": 1,
      "metadata": {
        "colab": {
          "base_uri": "https://localhost:8080/"
        },
        "id": "OULOLkxeghL1",
        "outputId": "54679597-76c2-468e-b1b8-4170d15fa90f"
      },
      "outputs": [
        {
          "output_type": "stream",
          "name": "stdout",
          "text": [
            "Please enter your high(m)1.75\n",
            "Please enter your weight(kg)50\n",
            "Your BMI is 16.33\n"
          ]
        }
      ],
      "source": [
        "high = float(input('Please enter your high(m)'))\n",
        "weight = int(input('Please enter your weight(kg)'))\n",
        "BMI= str(round(weight/(high*high),2))\n",
        "print('Your BMI is '+BMI)\n",
        "\n",
        "\n"
      ]
    }
  ]
}